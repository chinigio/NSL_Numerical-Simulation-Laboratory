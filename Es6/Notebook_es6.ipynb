{
 "cells": [
  {
   "cell_type": "markdown",
   "id": "1444b0c7",
   "metadata": {},
   "source": [
    "# Notebook es6"
   ]
  },
  {
   "cell_type": "markdown",
   "id": "84f7751a",
   "metadata": {},
   "source": [
    "# Notebook exercise 6\n",
    " \n",
    "In Statistical Mechanics the one-dimensional (1D) Ising Model is exactly resoluble. The Hamiltonian for a system of N spins with nearest neighbors interaction is given by (in the following I will assume units such that $\\mu_B=1$ and $k_B=1$):\n",
    "\n",
    "$$\n",
    "H = \n",
    "-J\\sum_{i=1}^N s_i s_{i+1}\n",
    "-\\frac{h}{2}\\sum_{i=1}^N (s_i + s_{i+1}) \n",
    "$$\n",
    "\n",
    "where $\\{ s_i \\}_{i=1,N}$ are spin variables taking values in $\\{-1;1\\}$, $J>0$ (ferromagnetic model),and with the assumption $s_{N+1} = s_{1}$.\n",
    "\n",
    "The partition function for $N$ spins, $Z$, can be exactly computed and it turns out to be:\n",
    "\n",
    "$$\n",
    "Z=\\sum_{\\{ s_i \\}} \\exp \\left( -\\beta H\\right) = \\lambda_1^N + \\lambda_2^N\n",
    "$$\n",
    "\n",
    "where\n",
    "$\\lambda_{1,2} = \n",
    "e^{\\beta J} \n",
    "\\cosh (\\beta h) \\pm \\left[ e^{2\\beta J} \\cosh^2 (\\beta h) - 2\\sinh (2\\beta J) \\right]^{1/2}$, \n",
    "and where $\\beta=\\frac{1}{k_b T} = \\frac{1}{T}$.\n",
    "Once the partition function has been computed, the Helmholtz free energy is readly obtained as $A = -k_B T \\ln Z$. All the thermodynamic quantities of interest can be deduced from $A$ or, equivalently, from $Z$:\n",
    "\n",
    "- the **Internal Energy** per spin (with $h=0$):\n",
    "\n",
    "$$\n",
    "\\frac{U(N,T)}{N} = \\frac{\\langle H \\rangle}{N}\n",
    "= \\frac{1}{N} \\sum_{\\{ s_i \\}} H \\frac{\\exp \\left( -\\beta H\\right)}{Z}\n",
    "= -\\frac{1}{N}\\frac{\\partial \\ln Z}{\\partial \\beta}\n",
    "\\underset{h=0}= -J \\tanh (\\beta J) \\Biggl( \\frac{1 + \\tanh^{N-2} (\\beta J)}{1+\\tanh^N (\\beta J)} \\Biggl)\n",
    "$$"
   ]
  },
  {
   "cell_type": "markdown",
   "id": "d3668c66",
   "metadata": {},
   "source": [
    "- the **Heat Capacity** (with $h=0$):\n",
    "\n",
    "$$\n",
    "C(N,T) = \\frac{\\partial U(N,T)}{\\partial T}\n",
    "= \\frac{\\partial \\beta}{\\partial T}\\frac{\\partial U}{\\partial \\beta}\n",
    "= -k_B\\beta^2 \\frac{\\partial}{\\partial \\beta} \\left[ \\sum_{\\{ s_i \\}} H \\frac{\\exp \\left( -\\beta H\\right)}{Z} \\right] = \\\\\n",
    "= -k_B\\beta^2 \\left[ -\\sum_{\\{ s_i \\}} H^2 \\frac{\\exp \\left( -\\beta H\\right)}{Z} + \\sum_{\\{ s_i \\}} H \\exp \\left( -\\beta H\\right)\\frac{\\partial Z^{-1}}{\\partial \\beta} \\right] = \\\\\n",
    "= k_B\\beta^2 \\left\\{ \\sum_{\\{ s_i \\}} H^2 \\frac{\\exp \\left( -\\beta H\\right)}{Z} + \\left[ \\sum_{\\{ s_i \\}} H \\frac{\\exp \\left( -\\beta H\\right)}{Z}\\right]\\frac{1}{Z}\\frac{\\partial Z}{\\partial \\beta} \\right\\} =\\\\\n",
    "= k_B\\beta^2 \\left\\{ \\sum_{\\{ s_i \\}} H^2 \\frac{\\exp \\left( -\\beta H\\right)}{Z} - \\left[ \\sum_{\\{ s_i \\}} H \\frac{\\exp \\left( -\\beta H\\right)}{Z}\\right]^2 \\right\\} =\n",
    "k_B\\beta^2 \\left(\\langle H^2 \\rangle -\\langle H \\rangle^2 \\right)\n",
    "$$\n",
    "\n",
    "$$\n",
    "\\frac{C(N,T)}{N} = \\frac{1}{N}\\frac{\\partial U(N,T)}{\\partial T} =\\\\\n",
    "\\underset{h=0}= \n",
    "k_B (\\beta J)^2 \\left\\{ 1+\\tanh^N (\\beta J)+(N-1)\\tanh^2 (\\beta J)+(N-1)\\frac{\\tanh^{N-2} (\\beta J)}{1+\\tanh^N (\\beta J)}\n",
    "- N \\left[ \\frac{\\tanh (\\beta J) + \\tanh^{N-1} (\\beta J)}{1+\\tanh^N (\\beta J)} \\right]^2 \\right\\}\n",
    "$$"
   ]
  },
  {
   "cell_type": "markdown",
   "id": "dc683262",
   "metadata": {},
   "source": [
    "- The **magnetization** (with $h \\not= 0$):\n",
    "\n",
    "Note that with $h=0$ the magnetization $M(N,T,h=0)=\\langle \\sum_{i=1,N}s_i \\rangle =0$ because in 1D we cannot have a (ferromagnetic) phase transition in absence of an external magnetic field.\n",
    "\n",
    "$$\n",
    "M(N,T,h) = -\\frac{\\partial A}{\\partial h} = k_B T \\frac{\\partial \\ln Z}{\\partial h} =\n",
    "\\frac{1}{\\beta} \\frac{1}{Z}\\frac{\\partial}{\\partial h}\\sum_{\\{ s_i \\}} \\exp \\left( -\\beta H\\right) = \\sum_{\\{ s_i \\}} \\left[ \\sum_{i=1,N}s_i\\right] \\frac{\\exp \\left( -\\beta H\\right)}{Z} = \\left\\langle \\sum_{i=1,N}s_i \\right\\rangle\n",
    "$$\n",
    "\n",
    "The exact formula from $M(N,T,h) = k_B T \\dfrac{\\partial \\ln Z}{\\partial h}$ is:\n",
    "$$\n",
    "\\frac{M(N,T,h)}{N}=\\frac{e^{\\beta J}\\; \\sinh(\\beta h)}{Z} \\; \\Bigl[\\lambda_1^{N-1}\\cdot \\Bigl(1+\\frac{e^{\\beta J}\\; \\cosh(\\beta h)}{\\sqrt{e^{2\\beta J} \\cosh^2 (\\beta h) - 2\\sinh (2\\beta J)}}\\Bigr) + \\lambda_2^{N-1}\\cdot \\Bigl(1-\\frac{e^{\\beta J}\\; \\cosh(\\beta h)}{\\sqrt{e^{2\\beta J} \\cosh^2 (\\beta h) - 2\\sinh (2\\beta J)}}\\Bigr)\\Bigr]\n",
    "$$"
   ]
  },
  {
   "cell_type": "markdown",
   "id": "70b6a851",
   "metadata": {},
   "source": [
    "- The **magnetic susceptibility** (with $h=0$):\n",
    "\n",
    "$$\n",
    "\\chi(N,T) = \\frac{\\partial M}{\\partial h} = \n",
    "\\frac{\\partial}{\\partial h}\\sum_{\\{ s_i \\}} \\left[ \\sum_{i=1,N}s_i\\right] \\frac{\\exp \\left( -\\beta H\\right)}{Z} =\\\\\n",
    "= \\beta\\sum_{\\{ s_i \\}} \\left[ \\sum_{i=1,N}s_i\\right]^2 \\frac{\\exp \\left( -\\beta H\\right)}{Z}\n",
    "-\\sum_{\\{ s_i \\}} \\left[ \\sum_{i=1,N}s_i\\right] \\frac{\\exp \\left( -\\beta H\\right)}{Z}\n",
    "\\frac{1}{Z}\\frac{\\partial Z}{\\partial h} = \n",
    "\\beta \\left[ \\left\\langle \\left( \\sum_{i=1,N}s_i \\right)^2 \\right\\rangle - \\left\\langle \\sum_{i=1,N}s_i \\right\\rangle^2 \\right] = \\\\\n",
    "\\underset{h=0}= \\beta \\left[ \\left\\langle \\left( \\sum_{i=1,N}s_i \\right)^2 \\right\\rangle \\right] = \\beta e^{2\\beta J} \\Biggl( \\frac{1-\\tanh^N (\\beta J)}{1+\\tanh^N (\\beta J)} \\Biggl)\n",
    "$$"
   ]
  },
  {
   "cell_type": "markdown",
   "id": "19e62210",
   "metadata": {},
   "source": [
    "## 06.1\n",
    "\n",
    "### Assignment\n",
    "\n",
    "Complete the NSL_simulator code to simulate a 1D Ising model with the Gibbs sampling algorithm (the Metropolis algorithm is already implemented) to sample the Boltzmann's weight $p(\\{ s_i \\}) = \\exp(-\\beta H)/Z$. Verify the possibility to restart from a previous spin configuration.\n",
    "\n",
    "The code already computes the internal energy: $U(N,T) = \\langle H \\rangle$. Add the calculation of $C(N,T)$, $\\chi(N,T)$, $M(N,T,h)$ and compute:\n",
    "1. $U(N,T) = \\langle H \\rangle_{h=0}$\n",
    "2. $C(N,T) = k_B \\beta^2 (\\langle H^2 \\rangle_{h=0}-\\langle H \\rangle_{h=0}^2)$ \n",
    "3. $\\chi(N,T) = \\beta \\langle (\\sum_{i=1,N}s_i)^2 \\rangle_{h=0}$\n",
    "4. $M(N,T,h=0.02)= \\langle \\sum_{i=1,N}s_i \\rangle_{h=0.02}$\n",
    "\n",
    "as a function of $T$ in the range $\\left[0.5;2.0\\right]$ (10 misure/point) for a system of $N=50$ spins with $J=1$.\n",
    "\n",
    "As usual, use data blocking and give an estimate of the statistical uncertainties."
   ]
  },
  {
   "cell_type": "markdown",
   "id": "fff72a83",
   "metadata": {},
   "source": [
    "- Show pictures of your estimations of $U(N,T)$, $C(N,T)$, $\\chi(N,T)$, $M(N,T,h=0.02)$ and their uncertainties</span> obtained with a large number of *MC steps* (e.g. $M\\ge 10^5$)(1 step is the try to change all the spin) compared with the exact curves. In the same picture show your results obtained with both sampling methods, Metropolis and Gibbs</span>.\n",
    "\n",
    "A Monte Carlo step will consist in trying to flip one time all the spins of the system. Do not forget to equilibrate your simulations and to use blocking average with blocks large enough."
   ]
  },
  {
   "cell_type": "markdown",
   "id": "362e4227",
   "metadata": {},
   "source": [
    "### Solution\n",
    "\n",
    "First of all, I add the Gibbs sampling algorithm to the simulator code. This method can be seen as a particular case of the Metropolis algorithm where the proposed move is always accepted. In the specific case of Ising model, the system proposes to flip the spin of a particle and this move is accepted with a probability given by \n",
    "\\begin{equation}\n",
    "    P = \\frac{1}{1 + exp(- \\beta \\Delta E) }\n",
    "\\end{equation}\n",
    "where $\\Delta E$ is the energy variation given by the flip, considering only the nearest neighbors of the particle. \n",
    "\n",
    "Here I report the implementation of this algorithm in the simulator.\n",
    "\n",
    "```c++ \n",
    "void System :: move(int i){ // Propose a MC move for particle i\n",
    "  if(_sim_type == 3){ //Gibbs sampler for Ising\n",
    "    double delta_E = - 2.0 * _particle(i).getspin() * _J * (_particle(this->pbc(i-1)).getspin() + _particle(this->pbc(i+1)).getspin());\n",
    "    if(_H != 0.0) delta_E += 2.0 * _particle(i).getspin() * _H;\n",
    "    if(_rnd.Rannyu() < 1/(1+exp(-_beta*delta_E))){\n",
    "      _particle(i).flip();\n",
    "    }\n",
    "  } else ...\n",
    "\n",
    "```\n",
    "\n",
    "Next, I added the functions to evaluate the physical quantities requested by the exercise. Here I show the code for all of them. \n",
    "\n",
    "__Heat capacity__\n",
    "```c++\n",
    "if (_measure_cv){\n",
    "    double H = 0.0;\n",
    "    double s_i, s_j;\n",
    "    for (int i=0; i<_npart; i++){\n",
    "        s_i = double(_particle(i).getspin());\n",
    "        s_j = double(_particle(this->pbc(i+1)).getspin());\n",
    "        H += - _J * s_i * s_j - 0.5 * _H * (s_i + s_j);\n",
    "    }\n",
    "    _measurement(_index_cv) = pow(H,2);\n",
    "    _measurement(_index_cv+1) = H;\n",
    "}\n",
    "```\n",
    "__Susceptibility__\n",
    "```c++\n",
    "if (_measure_chi){\n",
    "    double chi = 0.0;\n",
    "    for(int i=0; i<_npart; i++) chi += _particle(i).getspin();\n",
    "    _measurement(_index_chi) = _beta * pow(chi,2)/double(_npart);\n",
    "} \n",
    "```\n",
    "__Magnetization__\n",
    "```c++\n",
    "if( _measure_magnet){\n",
    "    for(int i=0; i<_npart; i++) magnetization += _particle(i).getspin();\n",
    "    magnetization /= double(_npart);\n",
    "    _measurement(_index_magnet) = magnetization;\n",
    "}\n",
    "```"
   ]
  },
  {
   "cell_type": "markdown",
   "id": "2f871add",
   "metadata": {},
   "source": [
    "Then I wrote I Python code to simulate the system many time for different temperature values. I separate the estimation process for magnetization because in that case the system requires the presence of the magnetic field.\n",
    "I repeat this sequence simulating the system with Metropolis and Gibbs algorithms. \n",
    "\n",
    "To equilibrate the system, I initially simulated the system setting the temperature equal to 2, saved the final configuration of the system and then started the simulation process imposing that the system start with this configuration. \n",
    "For the subsequent simulation, I used the final configuration of the previous process, so that the system start in a configuration that does not significantly change the temperature of the system.  "
   ]
  },
  {
   "cell_type": "code",
   "execution_count": 72,
   "id": "fbed2ed3",
   "metadata": {},
   "outputs": [
    {
     "name": "stdout",
     "output_type": "stream",
     "text": [
      "rm -f ../OUTPUT/summary.dat\n",
      "cp ../OUTPUT_t2/CONFIG/config.spin ../INPUT/CONFIG/config.spin\n",
      "time ./simulator.exe\n"
     ]
    },
    {
     "name": "stderr",
     "output_type": "stream",
     "text": [
      "        2.66 real         2.61 user         0.03 sys\n"
     ]
    },
    {
     "name": "stdout",
     "output_type": "stream",
     "text": [
      "Simulazione completata per TEMP = 2.0\n",
      "cp ../OUTPUT/CONFIG/config.spin ../INPUT/CONFIG/config.spin\n",
      "time ./simulator.exe\n"
     ]
    },
    {
     "name": "stderr",
     "output_type": "stream",
     "text": [
      "        2.63 real         2.57 user         0.02 sys\n"
     ]
    },
    {
     "name": "stdout",
     "output_type": "stream",
     "text": [
      "Simulazione completata per TEMP = 1.9210526315789473\n",
      "cp ../OUTPUT/CONFIG/config.spin ../INPUT/CONFIG/config.spin\n",
      "time ./simulator.exe\n"
     ]
    },
    {
     "name": "stderr",
     "output_type": "stream",
     "text": [
      "        2.57 real         2.53 user         0.02 sys\n"
     ]
    },
    {
     "name": "stdout",
     "output_type": "stream",
     "text": [
      "Simulazione completata per TEMP = 1.8421052631578947\n",
      "cp ../OUTPUT/CONFIG/config.spin ../INPUT/CONFIG/config.spin\n",
      "time ./simulator.exe\n"
     ]
    },
    {
     "name": "stderr",
     "output_type": "stream",
     "text": [
      "        2.52 real         2.49 user         0.02 sys\n"
     ]
    },
    {
     "name": "stdout",
     "output_type": "stream",
     "text": [
      "Simulazione completata per TEMP = 1.763157894736842\n",
      "cp ../OUTPUT/CONFIG/config.spin ../INPUT/CONFIG/config.spin\n",
      "time ./simulator.exe\n"
     ]
    },
    {
     "name": "stderr",
     "output_type": "stream",
     "text": [
      "        2.48 real         2.45 user         0.02 sys\n"
     ]
    },
    {
     "name": "stdout",
     "output_type": "stream",
     "text": [
      "Simulazione completata per TEMP = 1.6842105263157894\n",
      "cp ../OUTPUT/CONFIG/config.spin ../INPUT/CONFIG/config.spin\n",
      "time ./simulator.exe\n"
     ]
    },
    {
     "name": "stderr",
     "output_type": "stream",
     "text": [
      "        2.44 real         2.40 user         0.02 sys\n"
     ]
    },
    {
     "name": "stdout",
     "output_type": "stream",
     "text": [
      "Simulazione completata per TEMP = 1.6052631578947367\n",
      "cp ../OUTPUT/CONFIG/config.spin ../INPUT/CONFIG/config.spin\n",
      "time ./simulator.exe\n"
     ]
    },
    {
     "name": "stderr",
     "output_type": "stream",
     "text": [
      "        2.40 real         2.36 user         0.02 sys\n"
     ]
    },
    {
     "name": "stdout",
     "output_type": "stream",
     "text": [
      "Simulazione completata per TEMP = 1.5263157894736843\n",
      "cp ../OUTPUT/CONFIG/config.spin ../INPUT/CONFIG/config.spin\n",
      "time ./simulator.exe\n"
     ]
    },
    {
     "name": "stderr",
     "output_type": "stream",
     "text": [
      "        2.36 real         2.32 user         0.03 sys\n"
     ]
    },
    {
     "name": "stdout",
     "output_type": "stream",
     "text": [
      "Simulazione completata per TEMP = 1.4473684210526316\n",
      "cp ../OUTPUT/CONFIG/config.spin ../INPUT/CONFIG/config.spin\n",
      "time ./simulator.exe\n"
     ]
    },
    {
     "name": "stderr",
     "output_type": "stream",
     "text": [
      "        2.35 real         2.28 user         0.03 sys\n"
     ]
    },
    {
     "name": "stdout",
     "output_type": "stream",
     "text": [
      "Simulazione completata per TEMP = 1.368421052631579\n",
      "cp ../OUTPUT/CONFIG/config.spin ../INPUT/CONFIG/config.spin\n",
      "time ./simulator.exe\n"
     ]
    },
    {
     "name": "stderr",
     "output_type": "stream",
     "text": [
      "        2.31 real         2.23 user         0.04 sys\n"
     ]
    },
    {
     "name": "stdout",
     "output_type": "stream",
     "text": [
      "Simulazione completata per TEMP = 1.2894736842105263\n",
      "cp ../OUTPUT/CONFIG/config.spin ../INPUT/CONFIG/config.spin\n",
      "time ./simulator.exe\n"
     ]
    },
    {
     "name": "stderr",
     "output_type": "stream",
     "text": [
      "        2.25 real         2.17 user         0.03 sys\n"
     ]
    },
    {
     "name": "stdout",
     "output_type": "stream",
     "text": [
      "Simulazione completata per TEMP = 1.2105263157894737\n",
      "cp ../OUTPUT/CONFIG/config.spin ../INPUT/CONFIG/config.spin\n",
      "time ./simulator.exe\n"
     ]
    },
    {
     "name": "stderr",
     "output_type": "stream",
     "text": [
      "        2.22 real         2.14 user         0.04 sys\n"
     ]
    },
    {
     "name": "stdout",
     "output_type": "stream",
     "text": [
      "Simulazione completata per TEMP = 1.1315789473684212\n",
      "cp ../OUTPUT/CONFIG/config.spin ../INPUT/CONFIG/config.spin\n",
      "time ./simulator.exe\n"
     ]
    },
    {
     "name": "stderr",
     "output_type": "stream",
     "text": [
      "        2.18 real         2.07 user         0.04 sys\n"
     ]
    },
    {
     "name": "stdout",
     "output_type": "stream",
     "text": [
      "Simulazione completata per TEMP = 1.0526315789473686\n",
      "cp ../OUTPUT/CONFIG/config.spin ../INPUT/CONFIG/config.spin\n",
      "time ./simulator.exe\n"
     ]
    },
    {
     "name": "stderr",
     "output_type": "stream",
     "text": [
      "        2.05 real         2.00 user         0.03 sys\n"
     ]
    },
    {
     "name": "stdout",
     "output_type": "stream",
     "text": [
      "Simulazione completata per TEMP = 0.9736842105263159\n",
      "cp ../OUTPUT/CONFIG/config.spin ../INPUT/CONFIG/config.spin\n",
      "time ./simulator.exe\n"
     ]
    },
    {
     "name": "stderr",
     "output_type": "stream",
     "text": [
      "        1.96 real         1.92 user         0.02 sys\n"
     ]
    },
    {
     "name": "stdout",
     "output_type": "stream",
     "text": [
      "Simulazione completata per TEMP = 0.8947368421052633\n",
      "cp ../OUTPUT/CONFIG/config.spin ../INPUT/CONFIG/config.spin\n",
      "time ./simulator.exe\n"
     ]
    },
    {
     "name": "stderr",
     "output_type": "stream",
     "text": [
      "        1.89 real         1.86 user         0.02 sys\n"
     ]
    },
    {
     "name": "stdout",
     "output_type": "stream",
     "text": [
      "Simulazione completata per TEMP = 0.8157894736842106\n",
      "cp ../OUTPUT/CONFIG/config.spin ../INPUT/CONFIG/config.spin\n",
      "time ./simulator.exe\n"
     ]
    },
    {
     "name": "stderr",
     "output_type": "stream",
     "text": [
      "        1.84 real         1.80 user         0.02 sys\n"
     ]
    },
    {
     "name": "stdout",
     "output_type": "stream",
     "text": [
      "Simulazione completata per TEMP = 0.736842105263158\n",
      "cp ../OUTPUT/CONFIG/config.spin ../INPUT/CONFIG/config.spin\n",
      "time ./simulator.exe\n"
     ]
    },
    {
     "name": "stderr",
     "output_type": "stream",
     "text": [
      "        1.77 real         1.74 user         0.02 sys\n"
     ]
    },
    {
     "name": "stdout",
     "output_type": "stream",
     "text": [
      "Simulazione completata per TEMP = 0.6578947368421053\n",
      "cp ../OUTPUT/CONFIG/config.spin ../INPUT/CONFIG/config.spin\n",
      "time ./simulator.exe\n"
     ]
    },
    {
     "name": "stderr",
     "output_type": "stream",
     "text": [
      "        1.76 real         1.69 user         0.02 sys\n"
     ]
    },
    {
     "name": "stdout",
     "output_type": "stream",
     "text": [
      "Simulazione completata per TEMP = 0.5789473684210527\n",
      "cp ../OUTPUT/CONFIG/config.spin ../INPUT/CONFIG/config.spin\n",
      "time ./simulator.exe\n",
      "Simulazione completata per TEMP = 0.5\n",
      "cp ../OUTPUT/CONFIG/config.spin ../INPUT/CONFIG/config.spin\n"
     ]
    },
    {
     "name": "stderr",
     "output_type": "stream",
     "text": [
      "        1.68 real         1.64 user         0.02 sys\n"
     ]
    }
   ],
   "source": [
    "import subprocess\n",
    "import numpy as np\n",
    "import matplotlib\n",
    "import matplotlib.pyplot as plt\n",
    "\n",
    "# reset data in summary\n",
    "subprocess.run([\"make\", \"rm_summary\"], cwd=\"NSL_SIMULATOR/SOURCE\")\n",
    "\n",
    "# reset config to the one at T=2\n",
    "subprocess.run([\"make\", \"set_config_t2\"], cwd=\"NSL_SIMULATOR/SOURCE\")\n",
    "\n",
    "t_values = np.linspace(2, 0.5, 20) #temperature values\n",
    "input_filename = \"NSL_SIMULATOR/INPUT/input.dat\" # input file path\n",
    "\n",
    "e_mt = []   # internal energy for metropolis\n",
    "cv_mt = []  # specific heat for metropolis \n",
    "chi_mt = [] # magnetic susceptibility for metroplis\n",
    "\n",
    "# set the simulation type to Metropolis\n",
    "with open(input_filename, \"r\") as f:\n",
    "    lines = f.readlines()\n",
    "new_lines = []\n",
    "for line in lines:\n",
    "    if line.strip().startswith(\"SIMULATION_TYPE\"):\n",
    "        new_lines.append(\"SIMULATION_TYPE        2    1.0     0.00\\n\") \n",
    "    else:\n",
    "        new_lines.append(line)\n",
    "with open(input_filename, \"w\") as f:\n",
    "    f.writelines(new_lines)\n",
    "\n",
    "# loop over temperature values \n",
    "for temp in t_values:\n",
    "\n",
    "    with open(input_filename, \"r\") as f:\n",
    "        lines = f.readlines()\n",
    "    # change the temperature value in imput file\n",
    "    new_lines = []\n",
    "    for line in lines:\n",
    "        if line.strip().startswith(\"TEMP\"):\n",
    "            new_lines.append(f\"TEMP                   {temp}\\n\")\n",
    "        else:\n",
    "            new_lines.append(line)\n",
    "    with open(input_filename, \"w\") as f:\n",
    "        f.writelines(new_lines)\n",
    "    \n",
    "    # run the simulation\n",
    "    subprocess.run([\"make\", \"run\"], cwd=\"NSL_SIMULATOR/SOURCE\")\n",
    "    print(f\"Simulazione completata per TEMP = {temp}\")\n",
    "\n",
    "    # read the estimation for total energy\n",
    "    total_energy_file = \"NSL_SIMULATOR/OUTPUT/total_energy.dat\"\n",
    "    with open(total_energy_file, \"r\") as f:\n",
    "        lines = f.readlines()\n",
    "    if lines:  \n",
    "        last_line = lines[-1].strip()  \n",
    "        values = last_line.split()  \n",
    "        if len(values) >= 4:  \n",
    "            e_mt.append([float(values[-2]), float(values[-1])]) \n",
    "\n",
    "    # read the estimation for specific heat\n",
    "    specific_heat_file = \"NSL_SIMULATOR/OUTPUT/specific_heat.dat\"\n",
    "    with open(specific_heat_file, \"r\") as f:\n",
    "        lines = f.readlines()\n",
    "    if lines:  \n",
    "        last_line = lines[-1].strip()\n",
    "        values = last_line.split()  \n",
    "        if len(values) >= 4:  \n",
    "            cv_mt.append([float(values[-2]), float(values[-1])])\n",
    "\n",
    "    # read the estimation for magnetic susceptibility\n",
    "    magnetic_susceptibility_file = \"NSL_SIMULATOR/OUTPUT/susceptibility.dat\"\n",
    "    with open(magnetic_susceptibility_file, \"r\") as f:\n",
    "        lines = f.readlines()       \n",
    "    if lines: \n",
    "        last_line = lines[-1].strip()\n",
    "        values = last_line.split()  \n",
    "        if len(values) >= 4:\n",
    "            chi_mt.append([float(values[-2]), float(values[-1])])\n",
    "\n",
    "    # change the configuration for the next simulation\n",
    "    subprocess.run([\"make\", \"change_config\"], cwd=\"NSL_SIMULATOR/SOURCE\")\n",
    "\n",
    "e_mt = np.array(e_mt)\n",
    "cv_mt = np.array(cv_mt)\n",
    "chi_mt = np.array(chi_mt)"
   ]
  },
  {
   "cell_type": "code",
   "execution_count": 73,
   "id": "d58ecb6a",
   "metadata": {},
   "outputs": [
    {
     "name": "stdout",
     "output_type": "stream",
     "text": [
      "cp ../OUTPUT_t2/CONFIG/config.spin ../INPUT/CONFIG/config.spin\n",
      "time ./simulator.exe\n"
     ]
    },
    {
     "name": "stderr",
     "output_type": "stream",
     "text": [
      "        2.63 real         2.60 user         0.02 sys\n"
     ]
    },
    {
     "name": "stdout",
     "output_type": "stream",
     "text": [
      "Simulazione completata per TEMP = 2.0\n",
      "cp ../OUTPUT/CONFIG/config.spin ../INPUT/CONFIG/config.spin\n",
      "time ./simulator.exe\n"
     ]
    },
    {
     "name": "stderr",
     "output_type": "stream",
     "text": [
      "        2.60 real         2.56 user         0.02 sys\n"
     ]
    },
    {
     "name": "stdout",
     "output_type": "stream",
     "text": [
      "Simulazione completata per TEMP = 1.9210526315789473\n",
      "cp ../OUTPUT/CONFIG/config.spin ../INPUT/CONFIG/config.spin\n",
      "time ./simulator.exe\n"
     ]
    },
    {
     "name": "stderr",
     "output_type": "stream",
     "text": [
      "        2.56 real         2.52 user         0.02 sys\n"
     ]
    },
    {
     "name": "stdout",
     "output_type": "stream",
     "text": [
      "Simulazione completata per TEMP = 1.8421052631578947\n",
      "cp ../OUTPUT/CONFIG/config.spin ../INPUT/CONFIG/config.spin\n",
      "time ./simulator.exe\n"
     ]
    },
    {
     "name": "stderr",
     "output_type": "stream",
     "text": [
      "        2.55 real         2.49 user         0.03 sys\n"
     ]
    },
    {
     "name": "stdout",
     "output_type": "stream",
     "text": [
      "Simulazione completata per TEMP = 1.763157894736842\n",
      "cp ../OUTPUT/CONFIG/config.spin ../INPUT/CONFIG/config.spin\n",
      "time ./simulator.exe\n"
     ]
    },
    {
     "name": "stderr",
     "output_type": "stream",
     "text": [
      "        2.48 real         2.44 user         0.02 sys\n"
     ]
    },
    {
     "name": "stdout",
     "output_type": "stream",
     "text": [
      "Simulazione completata per TEMP = 1.6842105263157894\n",
      "cp ../OUTPUT/CONFIG/config.spin ../INPUT/CONFIG/config.spin\n",
      "time ./simulator.exe\n"
     ]
    },
    {
     "name": "stderr",
     "output_type": "stream",
     "text": [
      "        2.43 real         2.39 user         0.02 sys\n"
     ]
    },
    {
     "name": "stdout",
     "output_type": "stream",
     "text": [
      "Simulazione completata per TEMP = 1.6052631578947367\n",
      "cp ../OUTPUT/CONFIG/config.spin ../INPUT/CONFIG/config.spin\n",
      "time ./simulator.exe\n"
     ]
    },
    {
     "name": "stderr",
     "output_type": "stream",
     "text": [
      "        2.39 real         2.36 user         0.02 sys\n"
     ]
    },
    {
     "name": "stdout",
     "output_type": "stream",
     "text": [
      "Simulazione completata per TEMP = 1.5263157894736843\n",
      "cp ../OUTPUT/CONFIG/config.spin ../INPUT/CONFIG/config.spin\n",
      "time ./simulator.exe\n"
     ]
    },
    {
     "name": "stderr",
     "output_type": "stream",
     "text": [
      "        2.34 real         2.31 user         0.02 sys\n"
     ]
    },
    {
     "name": "stdout",
     "output_type": "stream",
     "text": [
      "Simulazione completata per TEMP = 1.4473684210526316\n",
      "cp ../OUTPUT/CONFIG/config.spin ../INPUT/CONFIG/config.spin\n",
      "time ./simulator.exe\n"
     ]
    },
    {
     "name": "stderr",
     "output_type": "stream",
     "text": [
      "        2.34 real         2.27 user         0.02 sys\n"
     ]
    },
    {
     "name": "stdout",
     "output_type": "stream",
     "text": [
      "Simulazione completata per TEMP = 1.368421052631579\n",
      "cp ../OUTPUT/CONFIG/config.spin ../INPUT/CONFIG/config.spin\n",
      "time ./simulator.exe\n"
     ]
    },
    {
     "name": "stderr",
     "output_type": "stream",
     "text": [
      "        2.26 real         2.21 user         0.02 sys\n"
     ]
    },
    {
     "name": "stdout",
     "output_type": "stream",
     "text": [
      "Simulazione completata per TEMP = 1.2894736842105263\n",
      "cp ../OUTPUT/CONFIG/config.spin ../INPUT/CONFIG/config.spin\n",
      "time ./simulator.exe\n"
     ]
    },
    {
     "name": "stderr",
     "output_type": "stream",
     "text": [
      "        2.19 real         2.15 user         0.02 sys\n"
     ]
    },
    {
     "name": "stdout",
     "output_type": "stream",
     "text": [
      "Simulazione completata per TEMP = 1.2105263157894737\n",
      "cp ../OUTPUT/CONFIG/config.spin ../INPUT/CONFIG/config.spin\n",
      "time ./simulator.exe\n"
     ]
    },
    {
     "name": "stderr",
     "output_type": "stream",
     "text": [
      "        2.14 real         2.10 user         0.02 sys\n"
     ]
    },
    {
     "name": "stdout",
     "output_type": "stream",
     "text": [
      "Simulazione completata per TEMP = 1.1315789473684212\n",
      "cp ../OUTPUT/CONFIG/config.spin ../INPUT/CONFIG/config.spin\n",
      "time ./simulator.exe\n"
     ]
    },
    {
     "name": "stderr",
     "output_type": "stream",
     "text": [
      "        2.08 real         2.04 user         0.02 sys\n"
     ]
    },
    {
     "name": "stdout",
     "output_type": "stream",
     "text": [
      "Simulazione completata per TEMP = 1.0526315789473686\n",
      "cp ../OUTPUT/CONFIG/config.spin ../INPUT/CONFIG/config.spin\n",
      "time ./simulator.exe\n"
     ]
    },
    {
     "name": "stderr",
     "output_type": "stream",
     "text": [
      "        2.01 real         1.98 user         0.02 sys\n"
     ]
    },
    {
     "name": "stdout",
     "output_type": "stream",
     "text": [
      "Simulazione completata per TEMP = 0.9736842105263159\n",
      "cp ../OUTPUT/CONFIG/config.spin ../INPUT/CONFIG/config.spin\n",
      "time ./simulator.exe\n"
     ]
    },
    {
     "name": "stderr",
     "output_type": "stream",
     "text": [
      "        2.00 real         1.92 user         0.02 sys\n"
     ]
    },
    {
     "name": "stdout",
     "output_type": "stream",
     "text": [
      "Simulazione completata per TEMP = 0.8947368421052633\n",
      "cp ../OUTPUT/CONFIG/config.spin ../INPUT/CONFIG/config.spin\n",
      "time ./simulator.exe\n"
     ]
    },
    {
     "name": "stderr",
     "output_type": "stream",
     "text": [
      "        1.89 real         1.85 user         0.02 sys\n"
     ]
    },
    {
     "name": "stdout",
     "output_type": "stream",
     "text": [
      "Simulazione completata per TEMP = 0.8157894736842106\n",
      "cp ../OUTPUT/CONFIG/config.spin ../INPUT/CONFIG/config.spin\n",
      "time ./simulator.exe\n"
     ]
    },
    {
     "name": "stderr",
     "output_type": "stream",
     "text": [
      "        1.82 real         1.79 user         0.02 sys\n"
     ]
    },
    {
     "name": "stdout",
     "output_type": "stream",
     "text": [
      "Simulazione completata per TEMP = 0.736842105263158\n",
      "cp ../OUTPUT/CONFIG/config.spin ../INPUT/CONFIG/config.spin\n",
      "time ./simulator.exe\n"
     ]
    },
    {
     "name": "stderr",
     "output_type": "stream",
     "text": [
      "        1.76 real         1.73 user         0.02 sys\n"
     ]
    },
    {
     "name": "stdout",
     "output_type": "stream",
     "text": [
      "Simulazione completata per TEMP = 0.6578947368421053\n",
      "cp ../OUTPUT/CONFIG/config.spin ../INPUT/CONFIG/config.spin\n",
      "time ./simulator.exe\n"
     ]
    },
    {
     "name": "stderr",
     "output_type": "stream",
     "text": [
      "        1.70 real         1.67 user         0.02 sys\n"
     ]
    },
    {
     "name": "stdout",
     "output_type": "stream",
     "text": [
      "Simulazione completata per TEMP = 0.5789473684210527\n",
      "cp ../OUTPUT/CONFIG/config.spin ../INPUT/CONFIG/config.spin\n",
      "time ./simulator.exe\n",
      "Simulazione completata per TEMP = 0.5\n",
      "cp ../OUTPUT/CONFIG/config.spin ../INPUT/CONFIG/config.spin\n"
     ]
    },
    {
     "name": "stderr",
     "output_type": "stream",
     "text": [
      "        1.65 real         1.62 user         0.02 sys\n"
     ]
    }
   ],
   "source": [
    "m_mt = []\n",
    "\n",
    "with open(input_filename, \"r\") as f:\n",
    "    lines = f.readlines()\n",
    "# change the value of external magnetic field in imput file\n",
    "new_lines = []\n",
    "for line in lines:\n",
    "    if line.strip().startswith(\"SIMULATION_TYPE\"):\n",
    "        new_lines.append(\"SIMULATION_TYPE        2    1.0     0.02\\n\") \n",
    "    else:\n",
    "        new_lines.append(line)\n",
    "with open(input_filename, \"w\") as f:\n",
    "    f.writelines(new_lines)\n",
    "\n",
    "# reset config to the one at T=2\n",
    "subprocess.run([\"make\", \"set_config_t2\"], cwd=\"NSL_SIMULATOR/SOURCE\")\n",
    "\n",
    "for temp in t_values:\n",
    "\n",
    "    with open(input_filename, \"r\") as f:\n",
    "        lines = f.readlines()\n",
    "    # change the temperature value in imput file\n",
    "    new_lines = []\n",
    "    for line in lines:\n",
    "        if line.strip().startswith(\"TEMP\"):\n",
    "            new_lines.append(f\"TEMP                   {temp}\\n\")\n",
    "        else:\n",
    "            new_lines.append(line)\n",
    "    with open(input_filename, \"w\") as f:\n",
    "        f.writelines(new_lines)\n",
    "    \n",
    "    # run the simulation\n",
    "    subprocess.run([\"make\", \"run\"], cwd=\"NSL_SIMULATOR/SOURCE\")\n",
    "    print(f\"Simulazione completata per TEMP = {temp}\")\n",
    "\n",
    "    # read the estimation for magnetization\n",
    "    magnetization_file = \"NSL_SIMULATOR/OUTPUT/magnetization.dat\"\n",
    "    with open(magnetization_file, \"r\") as f:\n",
    "        lines = f.readlines()\n",
    "    if lines:\n",
    "        last_line = lines[-1].strip()  \n",
    "        values = last_line.split()  \n",
    "        if len(values) >= 4:  \n",
    "            m_mt.append([float(values[-2]), float(values[-1])])\n",
    "\n",
    "    # change the configuration for the next simulation\n",
    "    subprocess.run([\"make\", \"change_config\"], cwd=\"NSL_SIMULATOR/SOURCE\")\n",
    "\n",
    "m_mt = np.array(m_mt)"
   ]
  },
  {
   "cell_type": "code",
   "execution_count": 74,
   "id": "277ac8c8",
   "metadata": {},
   "outputs": [
    {
     "name": "stdout",
     "output_type": "stream",
     "text": [
      "cp ../OUTPUT_t2/CONFIG/config.spin ../INPUT/CONFIG/config.spin\n",
      "time ./simulator.exe\n"
     ]
    },
    {
     "name": "stderr",
     "output_type": "stream",
     "text": [
      "        2.48 real         2.41 user         0.03 sys\n"
     ]
    },
    {
     "name": "stdout",
     "output_type": "stream",
     "text": [
      "Simulazione completata per TEMP = 2.0\n",
      "cp ../OUTPUT/CONFIG/config.spin ../INPUT/CONFIG/config.spin\n",
      "time ./simulator.exe\n"
     ]
    },
    {
     "name": "stderr",
     "output_type": "stream",
     "text": [
      "        2.41 real         2.37 user         0.03 sys\n"
     ]
    },
    {
     "name": "stdout",
     "output_type": "stream",
     "text": [
      "Simulazione completata per TEMP = 1.9210526315789473\n",
      "cp ../OUTPUT/CONFIG/config.spin ../INPUT/CONFIG/config.spin\n",
      "time ./simulator.exe\n"
     ]
    },
    {
     "name": "stderr",
     "output_type": "stream",
     "text": [
      "        2.37 real         2.33 user         0.03 sys\n"
     ]
    },
    {
     "name": "stdout",
     "output_type": "stream",
     "text": [
      "Simulazione completata per TEMP = 1.8421052631578947\n",
      "cp ../OUTPUT/CONFIG/config.spin ../INPUT/CONFIG/config.spin\n",
      "time ./simulator.exe\n"
     ]
    },
    {
     "name": "stderr",
     "output_type": "stream",
     "text": [
      "        2.34 real         2.30 user         0.02 sys\n"
     ]
    },
    {
     "name": "stdout",
     "output_type": "stream",
     "text": [
      "Simulazione completata per TEMP = 1.763157894736842\n",
      "cp ../OUTPUT/CONFIG/config.spin ../INPUT/CONFIG/config.spin\n",
      "time ./simulator.exe\n"
     ]
    },
    {
     "name": "stderr",
     "output_type": "stream",
     "text": [
      "        2.30 real         2.27 user         0.02 sys\n"
     ]
    },
    {
     "name": "stdout",
     "output_type": "stream",
     "text": [
      "Simulazione completata per TEMP = 1.6842105263157894\n",
      "cp ../OUTPUT/CONFIG/config.spin ../INPUT/CONFIG/config.spin\n",
      "time ./simulator.exe\n"
     ]
    },
    {
     "name": "stderr",
     "output_type": "stream",
     "text": [
      "        2.27 real         2.24 user         0.02 sys\n"
     ]
    },
    {
     "name": "stdout",
     "output_type": "stream",
     "text": [
      "Simulazione completata per TEMP = 1.6052631578947367\n",
      "cp ../OUTPUT/CONFIG/config.spin ../INPUT/CONFIG/config.spin\n",
      "time ./simulator.exe\n"
     ]
    },
    {
     "name": "stderr",
     "output_type": "stream",
     "text": [
      "        2.24 real         2.20 user         0.02 sys\n"
     ]
    },
    {
     "name": "stdout",
     "output_type": "stream",
     "text": [
      "Simulazione completata per TEMP = 1.5263157894736843\n",
      "cp ../OUTPUT/CONFIG/config.spin ../INPUT/CONFIG/config.spin\n",
      "time ./simulator.exe\n"
     ]
    },
    {
     "name": "stderr",
     "output_type": "stream",
     "text": [
      "        2.19 real         2.16 user         0.02 sys\n"
     ]
    },
    {
     "name": "stdout",
     "output_type": "stream",
     "text": [
      "Simulazione completata per TEMP = 1.4473684210526316\n",
      "cp ../OUTPUT/CONFIG/config.spin ../INPUT/CONFIG/config.spin\n",
      "time ./simulator.exe\n"
     ]
    },
    {
     "name": "stderr",
     "output_type": "stream",
     "text": [
      "        2.19 real         2.13 user         0.02 sys\n"
     ]
    },
    {
     "name": "stdout",
     "output_type": "stream",
     "text": [
      "Simulazione completata per TEMP = 1.368421052631579\n",
      "cp ../OUTPUT/CONFIG/config.spin ../INPUT/CONFIG/config.spin\n",
      "time ./simulator.exe\n"
     ]
    },
    {
     "name": "stderr",
     "output_type": "stream",
     "text": [
      "        2.11 real         2.07 user         0.02 sys\n"
     ]
    },
    {
     "name": "stdout",
     "output_type": "stream",
     "text": [
      "Simulazione completata per TEMP = 1.2894736842105263\n",
      "cp ../OUTPUT/CONFIG/config.spin ../INPUT/CONFIG/config.spin\n",
      "time ./simulator.exe\n"
     ]
    },
    {
     "name": "stderr",
     "output_type": "stream",
     "text": [
      "        2.06 real         2.03 user         0.02 sys\n"
     ]
    },
    {
     "name": "stdout",
     "output_type": "stream",
     "text": [
      "Simulazione completata per TEMP = 1.2105263157894737\n",
      "cp ../OUTPUT/CONFIG/config.spin ../INPUT/CONFIG/config.spin\n",
      "time ./simulator.exe\n"
     ]
    },
    {
     "name": "stderr",
     "output_type": "stream",
     "text": [
      "        2.02 real         1.98 user         0.03 sys\n"
     ]
    },
    {
     "name": "stdout",
     "output_type": "stream",
     "text": [
      "Simulazione completata per TEMP = 1.1315789473684212\n",
      "cp ../OUTPUT/CONFIG/config.spin ../INPUT/CONFIG/config.spin\n",
      "time ./simulator.exe\n"
     ]
    },
    {
     "name": "stderr",
     "output_type": "stream",
     "text": [
      "        1.97 real         1.93 user         0.02 sys\n"
     ]
    },
    {
     "name": "stdout",
     "output_type": "stream",
     "text": [
      "Simulazione completata per TEMP = 1.0526315789473686\n",
      "cp ../OUTPUT/CONFIG/config.spin ../INPUT/CONFIG/config.spin\n",
      "time ./simulator.exe\n"
     ]
    },
    {
     "name": "stderr",
     "output_type": "stream",
     "text": [
      "        1.91 real         1.88 user         0.02 sys\n"
     ]
    },
    {
     "name": "stdout",
     "output_type": "stream",
     "text": [
      "Simulazione completata per TEMP = 0.9736842105263159\n",
      "cp ../OUTPUT/CONFIG/config.spin ../INPUT/CONFIG/config.spin\n",
      "time ./simulator.exe\n"
     ]
    },
    {
     "name": "stderr",
     "output_type": "stream",
     "text": [
      "        1.90 real         1.83 user         0.02 sys\n"
     ]
    },
    {
     "name": "stdout",
     "output_type": "stream",
     "text": [
      "Simulazione completata per TEMP = 0.8947368421052633\n",
      "cp ../OUTPUT/CONFIG/config.spin ../INPUT/CONFIG/config.spin\n",
      "time ./simulator.exe\n"
     ]
    },
    {
     "name": "stderr",
     "output_type": "stream",
     "text": [
      "        1.80 real         1.77 user         0.02 sys\n"
     ]
    },
    {
     "name": "stdout",
     "output_type": "stream",
     "text": [
      "Simulazione completata per TEMP = 0.8157894736842106\n",
      "cp ../OUTPUT/CONFIG/config.spin ../INPUT/CONFIG/config.spin\n",
      "time ./simulator.exe\n"
     ]
    },
    {
     "name": "stderr",
     "output_type": "stream",
     "text": [
      "        1.75 real         1.72 user         0.02 sys\n"
     ]
    },
    {
     "name": "stdout",
     "output_type": "stream",
     "text": [
      "Simulazione completata per TEMP = 0.736842105263158\n",
      "cp ../OUTPUT/CONFIG/config.spin ../INPUT/CONFIG/config.spin\n",
      "time ./simulator.exe\n"
     ]
    },
    {
     "name": "stderr",
     "output_type": "stream",
     "text": [
      "        1.70 real         1.67 user         0.02 sys\n"
     ]
    },
    {
     "name": "stdout",
     "output_type": "stream",
     "text": [
      "Simulazione completata per TEMP = 0.6578947368421053\n",
      "cp ../OUTPUT/CONFIG/config.spin ../INPUT/CONFIG/config.spin\n",
      "time ./simulator.exe\n"
     ]
    },
    {
     "name": "stderr",
     "output_type": "stream",
     "text": [
      "        1.65 real         1.62 user         0.02 sys\n"
     ]
    },
    {
     "name": "stdout",
     "output_type": "stream",
     "text": [
      "Simulazione completata per TEMP = 0.5789473684210527\n",
      "cp ../OUTPUT/CONFIG/config.spin ../INPUT/CONFIG/config.spin\n",
      "time ./simulator.exe\n",
      "Simulazione completata per TEMP = 0.5\n",
      "cp ../OUTPUT/CONFIG/config.spin ../INPUT/CONFIG/config.spin\n"
     ]
    },
    {
     "name": "stderr",
     "output_type": "stream",
     "text": [
      "        1.60 real         1.57 user         0.02 sys\n"
     ]
    }
   ],
   "source": [
    "input_filename = \"NSL_SIMULATOR/INPUT/input.dat\" \n",
    "\n",
    "e_gb = []\n",
    "cv_gb = []\n",
    "chi_gb = []\n",
    "\n",
    "with open(input_filename, \"r\") as f:\n",
    "    lines = f.readlines()\n",
    "# change the temperature value in imput file\n",
    "new_lines = []\n",
    "for line in lines:\n",
    "    if line.strip().startswith(\"SIMULATION_TYPE\"):\n",
    "        new_lines.append(\"SIMULATION_TYPE        3    1.0     0.00\\n\") \n",
    "    else:\n",
    "        new_lines.append(line)\n",
    "with open(input_filename, \"w\") as f:\n",
    "    f.writelines(new_lines)\n",
    "\n",
    "# reset config to the one at T=2\n",
    "subprocess.run([\"make\", \"set_config_t2\"], cwd=\"NSL_SIMULATOR/SOURCE\")\n",
    "\n",
    "for temp in t_values:\n",
    "\n",
    "    with open(input_filename, \"r\") as f:\n",
    "        lines = f.readlines()\n",
    "    # change the temperature value in imput file\n",
    "    new_lines = []\n",
    "    for line in lines:\n",
    "        if line.strip().startswith(\"TEMP\"):\n",
    "            new_lines.append(f\"TEMP                   {temp}\\n\")\n",
    "        else:\n",
    "            new_lines.append(line)\n",
    "    with open(input_filename, \"w\") as f:\n",
    "        f.writelines(new_lines)\n",
    "    \n",
    "    # run the simulation\n",
    "    subprocess.run([\"make\", \"run\"], cwd=\"NSL_SIMULATOR/SOURCE\")\n",
    "    print(f\"Simulazione completata per TEMP = {temp}\")\n",
    "\n",
    "    # read the estimation for total energy\n",
    "    total_energy_file = \"NSL_SIMULATOR/OUTPUT/total_energy.dat\"\n",
    "    with open(total_energy_file, \"r\") as f:\n",
    "        lines = f.readlines()\n",
    "    if lines:  \n",
    "        last_line = lines[-1].strip()  \n",
    "        values = last_line.split()  \n",
    "        if len(values) >= 4:  \n",
    "            e_gb.append([float(values[-2]), float(values[-1])]) \n",
    "\n",
    "    # read the estimation for specific heat\n",
    "    specific_heat_file = \"NSL_SIMULATOR/OUTPUT/specific_heat.dat\"\n",
    "    with open(specific_heat_file, \"r\") as f:\n",
    "        lines = f.readlines()\n",
    "    if lines:  \n",
    "        last_line = lines[-1].strip()\n",
    "        values = last_line.split()  \n",
    "        if len(values) >= 4:  \n",
    "            cv_gb.append([float(values[-2]), float(values[-1])])\n",
    "\n",
    "    # read the estimation for magnetic susceptibility\n",
    "    magnetic_susceptibility_file = \"NSL_SIMULATOR/OUTPUT/susceptibility.dat\"\n",
    "    with open(magnetic_susceptibility_file, \"r\") as f:\n",
    "        lines = f.readlines()       \n",
    "    if lines: \n",
    "        last_line = lines[-1].strip()\n",
    "        values = last_line.split()  \n",
    "        if len(values) >= 4:\n",
    "            chi_gb.append([float(values[-2]), float(values[-1])])\n",
    "\n",
    "    # change the configuration for the next simulation\n",
    "    subprocess.run([\"make\", \"change_config\"], cwd=\"NSL_SIMULATOR/SOURCE\")\n",
    "\n",
    "e_gb = np.array(e_gb)\n",
    "cv_gb = np.array(cv_gb)\n",
    "chi_gb = np.array(chi_gb)"
   ]
  },
  {
   "cell_type": "code",
   "execution_count": 75,
   "id": "bf0d47a1",
   "metadata": {},
   "outputs": [
    {
     "name": "stdout",
     "output_type": "stream",
     "text": [
      "cp ../OUTPUT_t2/CONFIG/config.spin ../INPUT/CONFIG/config.spin\n",
      "time ./simulator.exe\n"
     ]
    },
    {
     "name": "stderr",
     "output_type": "stream",
     "text": [
      "        2.53 real         2.46 user         0.03 sys\n"
     ]
    },
    {
     "name": "stdout",
     "output_type": "stream",
     "text": [
      "Simulazione completata per TEMP = 2.0\n",
      "cp ../OUTPUT/CONFIG/config.spin ../INPUT/CONFIG/config.spin\n",
      "time ./simulator.exe\n"
     ]
    },
    {
     "name": "stderr",
     "output_type": "stream",
     "text": [
      "        2.47 real         2.43 user         0.02 sys\n"
     ]
    },
    {
     "name": "stdout",
     "output_type": "stream",
     "text": [
      "Simulazione completata per TEMP = 1.9210526315789473\n",
      "cp ../OUTPUT/CONFIG/config.spin ../INPUT/CONFIG/config.spin\n",
      "time ./simulator.exe\n"
     ]
    },
    {
     "name": "stderr",
     "output_type": "stream",
     "text": [
      "        2.44 real         2.40 user         0.03 sys\n"
     ]
    },
    {
     "name": "stdout",
     "output_type": "stream",
     "text": [
      "Simulazione completata per TEMP = 1.8421052631578947\n",
      "cp ../OUTPUT/CONFIG/config.spin ../INPUT/CONFIG/config.spin\n",
      "time ./simulator.exe\n"
     ]
    },
    {
     "name": "stderr",
     "output_type": "stream",
     "text": [
      "        2.41 real         2.36 user         0.03 sys\n"
     ]
    },
    {
     "name": "stdout",
     "output_type": "stream",
     "text": [
      "Simulazione completata per TEMP = 1.763157894736842\n",
      "cp ../OUTPUT/CONFIG/config.spin ../INPUT/CONFIG/config.spin\n",
      "time ./simulator.exe\n"
     ]
    },
    {
     "name": "stderr",
     "output_type": "stream",
     "text": [
      "        2.38 real         2.33 user         0.03 sys\n"
     ]
    },
    {
     "name": "stdout",
     "output_type": "stream",
     "text": [
      "Simulazione completata per TEMP = 1.6842105263157894\n",
      "cp ../OUTPUT/CONFIG/config.spin ../INPUT/CONFIG/config.spin\n",
      "time ./simulator.exe\n"
     ]
    },
    {
     "name": "stderr",
     "output_type": "stream",
     "text": [
      "        2.32 real         2.29 user         0.02 sys\n"
     ]
    },
    {
     "name": "stdout",
     "output_type": "stream",
     "text": [
      "Simulazione completata per TEMP = 1.6052631578947367\n",
      "cp ../OUTPUT/CONFIG/config.spin ../INPUT/CONFIG/config.spin\n",
      "time ./simulator.exe\n"
     ]
    },
    {
     "name": "stderr",
     "output_type": "stream",
     "text": [
      "        2.29 real         2.25 user         0.02 sys\n"
     ]
    },
    {
     "name": "stdout",
     "output_type": "stream",
     "text": [
      "Simulazione completata per TEMP = 1.5263157894736843\n",
      "cp ../OUTPUT/CONFIG/config.spin ../INPUT/CONFIG/config.spin\n",
      "time ./simulator.exe\n"
     ]
    },
    {
     "name": "stderr",
     "output_type": "stream",
     "text": [
      "        2.29 real         2.22 user         0.02 sys\n"
     ]
    },
    {
     "name": "stdout",
     "output_type": "stream",
     "text": [
      "Simulazione completata per TEMP = 1.4473684210526316\n",
      "cp ../OUTPUT/CONFIG/config.spin ../INPUT/CONFIG/config.spin\n",
      "time ./simulator.exe\n"
     ]
    },
    {
     "name": "stderr",
     "output_type": "stream",
     "text": [
      "        2.20 real         2.17 user         0.02 sys\n"
     ]
    },
    {
     "name": "stdout",
     "output_type": "stream",
     "text": [
      "Simulazione completata per TEMP = 1.368421052631579\n",
      "cp ../OUTPUT/CONFIG/config.spin ../INPUT/CONFIG/config.spin\n",
      "time ./simulator.exe\n"
     ]
    },
    {
     "name": "stderr",
     "output_type": "stream",
     "text": [
      "        2.16 real         2.13 user         0.02 sys\n"
     ]
    },
    {
     "name": "stdout",
     "output_type": "stream",
     "text": [
      "Simulazione completata per TEMP = 1.2894736842105263\n",
      "cp ../OUTPUT/CONFIG/config.spin ../INPUT/CONFIG/config.spin\n",
      "time ./simulator.exe\n"
     ]
    },
    {
     "name": "stderr",
     "output_type": "stream",
     "text": [
      "        2.11 real         2.08 user         0.02 sys\n"
     ]
    },
    {
     "name": "stdout",
     "output_type": "stream",
     "text": [
      "Simulazione completata per TEMP = 1.2105263157894737\n",
      "cp ../OUTPUT/CONFIG/config.spin ../INPUT/CONFIG/config.spin\n",
      "time ./simulator.exe\n"
     ]
    },
    {
     "name": "stderr",
     "output_type": "stream",
     "text": [
      "        2.06 real         2.03 user         0.02 sys\n"
     ]
    },
    {
     "name": "stdout",
     "output_type": "stream",
     "text": [
      "Simulazione completata per TEMP = 1.1315789473684212\n",
      "cp ../OUTPUT/CONFIG/config.spin ../INPUT/CONFIG/config.spin\n",
      "time ./simulator.exe\n"
     ]
    },
    {
     "name": "stderr",
     "output_type": "stream",
     "text": [
      "        2.01 real         1.98 user         0.02 sys\n"
     ]
    },
    {
     "name": "stdout",
     "output_type": "stream",
     "text": [
      "Simulazione completata per TEMP = 1.0526315789473686\n",
      "cp ../OUTPUT/CONFIG/config.spin ../INPUT/CONFIG/config.spin\n",
      "time ./simulator.exe\n"
     ]
    },
    {
     "name": "stderr",
     "output_type": "stream",
     "text": [
      "        2.00 real         1.94 user         0.02 sys\n"
     ]
    },
    {
     "name": "stdout",
     "output_type": "stream",
     "text": [
      "Simulazione completata per TEMP = 0.9736842105263159\n",
      "cp ../OUTPUT/CONFIG/config.spin ../INPUT/CONFIG/config.spin\n",
      "time ./simulator.exe\n"
     ]
    },
    {
     "name": "stderr",
     "output_type": "stream",
     "text": [
      "        1.90 real         1.87 user         0.02 sys\n"
     ]
    },
    {
     "name": "stdout",
     "output_type": "stream",
     "text": [
      "Simulazione completata per TEMP = 0.8947368421052633\n",
      "cp ../OUTPUT/CONFIG/config.spin ../INPUT/CONFIG/config.spin\n",
      "time ./simulator.exe\n"
     ]
    },
    {
     "name": "stderr",
     "output_type": "stream",
     "text": [
      "        1.85 real         1.81 user         0.02 sys\n"
     ]
    },
    {
     "name": "stdout",
     "output_type": "stream",
     "text": [
      "Simulazione completata per TEMP = 0.8157894736842106\n",
      "cp ../OUTPUT/CONFIG/config.spin ../INPUT/CONFIG/config.spin\n",
      "time ./simulator.exe\n"
     ]
    },
    {
     "name": "stderr",
     "output_type": "stream",
     "text": [
      "        1.78 real         1.75 user         0.02 sys\n"
     ]
    },
    {
     "name": "stdout",
     "output_type": "stream",
     "text": [
      "Simulazione completata per TEMP = 0.736842105263158\n",
      "cp ../OUTPUT/CONFIG/config.spin ../INPUT/CONFIG/config.spin\n",
      "time ./simulator.exe\n"
     ]
    },
    {
     "name": "stderr",
     "output_type": "stream",
     "text": [
      "        1.73 real         1.70 user         0.02 sys\n"
     ]
    },
    {
     "name": "stdout",
     "output_type": "stream",
     "text": [
      "Simulazione completata per TEMP = 0.6578947368421053\n",
      "cp ../OUTPUT/CONFIG/config.spin ../INPUT/CONFIG/config.spin\n",
      "time ./simulator.exe\n"
     ]
    },
    {
     "name": "stderr",
     "output_type": "stream",
     "text": [
      "        1.67 real         1.64 user         0.02 sys\n"
     ]
    },
    {
     "name": "stdout",
     "output_type": "stream",
     "text": [
      "Simulazione completata per TEMP = 0.5789473684210527\n",
      "cp ../OUTPUT/CONFIG/config.spin ../INPUT/CONFIG/config.spin\n",
      "time ./simulator.exe\n",
      "Simulazione completata per TEMP = 0.5\n",
      "cp ../OUTPUT/CONFIG/config.spin ../INPUT/CONFIG/config.spin\n"
     ]
    },
    {
     "name": "stderr",
     "output_type": "stream",
     "text": [
      "        1.63 real         1.60 user         0.02 sys\n"
     ]
    }
   ],
   "source": [
    "m_gb = []\n",
    "\n",
    "with open(input_filename, \"r\") as f:\n",
    "    lines = f.readlines()\n",
    "# change the value of external magnetic field in imput file\n",
    "new_lines = []\n",
    "for line in lines:\n",
    "    if line.strip().startswith(\"SIMULATION_TYPE\"):\n",
    "        new_lines.append(\"SIMULATION_TYPE        3    1.0     0.02\\n\") \n",
    "    else:\n",
    "        new_lines.append(line)\n",
    "with open(input_filename, \"w\") as f:\n",
    "    f.writelines(new_lines)\n",
    "\n",
    "# reset config to the one at T=2\n",
    "subprocess.run([\"make\", \"set_config_t2\"], cwd=\"NSL_SIMULATOR/SOURCE\")\n",
    "\n",
    "for temp in t_values:\n",
    "\n",
    "    with open(input_filename, \"r\") as f:\n",
    "        lines = f.readlines()\n",
    "    # change the temperature value in imput file\n",
    "    new_lines = []\n",
    "    for line in lines:\n",
    "        if line.strip().startswith(\"TEMP\"):\n",
    "            new_lines.append(f\"TEMP                   {temp}\\n\")\n",
    "        else:\n",
    "            new_lines.append(line)\n",
    "    with open(input_filename, \"w\") as f:\n",
    "        f.writelines(new_lines)\n",
    "    \n",
    "    # run the simulation\n",
    "    subprocess.run([\"make\", \"run\"], cwd=\"NSL_SIMULATOR/SOURCE\")\n",
    "    print(f\"Simulazione completata per TEMP = {temp}\")\n",
    "\n",
    "    # read the estimation for magnetization\n",
    "    magnetization_file = \"NSL_SIMULATOR/OUTPUT/magnetization.dat\"\n",
    "    with open(magnetization_file, \"r\") as f:\n",
    "        lines = f.readlines()\n",
    "    if lines:\n",
    "        last_line = lines[-1].strip()  \n",
    "        values = last_line.split()  \n",
    "        if len(values) >= 4:  \n",
    "            m_gb.append([float(values[-2]), float(values[-1])])\n",
    "    \n",
    "    # change the configuration for the next simulation\n",
    "    subprocess.run([\"make\", \"change_config\"], cwd=\"NSL_SIMULATOR/SOURCE\")\n",
    "\n",
    "m_gb = np.array(m_gb)"
   ]
  },
  {
   "cell_type": "markdown",
   "id": "61067618",
   "metadata": {},
   "source": [
    "Here, I reported the results of the simulation, which show a good agreement with the teoretical functions. I extracted 20 points, for 20 different temperature value of the interval $[0.5, 2]$. For the estimation I used $N_{step} = 10^6$ and $N_{block} = 100$."
   ]
  },
  {
   "cell_type": "code",
   "execution_count": 76,
   "id": "1eb26518",
   "metadata": {},
   "outputs": [
    {
     "data": {
      "image/png": "[encoded data removed]",
      "text/plain": [
       "<Figure size 2000x1500 with 8 Axes>"
      ]
     },
     "metadata": {},
     "output_type": "display_data"
    }
   ],
   "source": [
    "# define function for exact values\n",
    "def internal_energy(T):\n",
    "    J = 1.0\n",
    "    Ns = 50\n",
    "    th = np.tanh(J/T)\n",
    "    thN= th**Ns\n",
    "    ch = 1/th   \n",
    "    return -J*( th + ch*thN )/( 1 + thN )\n",
    "\n",
    "def heat_capacity(T):\n",
    "    beta = 1/T\n",
    "    J = 1.0\n",
    "    Ns = 50\n",
    "    th = np.tanh(J/T)\n",
    "    thN= th**Ns\n",
    "    ch = 1/th   \n",
    "    return ((beta*J)**2)*(((1+thN+(Ns-1)*(th**2)+(Ns-1)*(ch**2)*thN)/(1+thN))-Ns*((th+ch*thN)/(1+thN))**2)\n",
    "\n",
    "def mag(T):\n",
    "    b = 1/T\n",
    "    h = 0.02\n",
    "    J = 1.0\n",
    "    Ns = 50\n",
    "    l1 = np.exp(b*J)*np.cosh(b*h)+np.sqrt(np.exp(2*b*J)*np.cosh(b*h)*np.cosh(b*h)-2*np.sinh(2*b*J))\n",
    "    l2 = np.exp(b*J)*np.cosh(b*h)-np.sqrt(np.exp(2*b*J)*np.cosh(b*h)*np.cosh(b*h)-2*np.sinh(2*b*J))\n",
    "    Z = l1**Ns + l2**Ns\n",
    "    return (np.exp(b*J)*np.sinh(b*h)*((l1**(Ns-1))*(1+np.exp(b*J)*np.cosh(b*h)/np.sqrt(np.exp(2*b*J)*np.cosh(b*h)*np.cosh(b*h)-2*np.sinh(2*b*J))) + (l2**(Ns-1))*(1-np.exp(b*J)*np.cosh(b*h)/np.sqrt(np.exp(2*b*J)*np.cosh(b*h)*np.cosh(b*h)-2*np.sinh(2*b*J)))))/(Z)\n",
    "\n",
    "def susceptibility(T):\n",
    "    beta = 1/T\n",
    "    J = 1.0\n",
    "    Ns = 50\n",
    "    th = np.tanh(J/T)\n",
    "    thN= th**Ns\n",
    "    ch = 1/th  \n",
    "    return beta*np.exp(2*beta*J)*(1-thN)/(1+thN)\n",
    "\n",
    "\n",
    "#plot the data\n",
    "fig, ax = plt.subplots(4, 2, figsize=(20, 15))\n",
    "points=100\n",
    "T = np.linspace(0.2,3.0,num=points)\n",
    "\n",
    "# internal energy \n",
    "e = internal_energy(T)\n",
    "e_values = internal_energy(t_values)\n",
    "e_diff_percent_mt = 100 * (e_mt[:, 0] - e_values)/e_values\n",
    "e_diff_percent_gb = 100 * (e_gb[:, 0] - e_values)/e_values\n",
    "e_error_percent_mt = - 100 * e_mt[:, 1]/e_values\n",
    "e_error_percent_gb = - 100 * e_gb[:, 1]/e_values\n",
    "\n",
    "ax[0,0].errorbar(t_values, e_mt[:, 0], yerr=e_mt[:, 1], color=\"#3a0ca3\", ecolor='#3a0ca3', marker='o', markersize=6, linestyle=' ', elinewidth=1, label='Metropolis')\n",
    "ax[0,0].errorbar(t_values, e_gb[:, 0], yerr=e_gb[:, 1], color=\"#f72585\", ecolor='#f72585', marker='o', markersize=3, linestyle=' ', elinewidth=1, label='Gibbs')\n",
    "ax[0,0].plot(T, e, linestyle='--', color='#4cc9f0', label='Analytic solution')\n",
    "ax[0,0].grid(True)\n",
    "ax[0,0].set_xlabel('Temperature')\n",
    "ax[0,0].set_ylabel('Energy')\n",
    "ax[0,0].set_title('Internal energy')\n",
    "ax[0,0].legend()\n",
    "\n",
    "ax[0,1].errorbar(t_values, e_diff_percent_mt, yerr=e_error_percent_mt, color=\"#3a0ca3\", ecolor='#3a0ca3', marker='o', markersize=6, linestyle=' ', elinewidth=1, label='Metropolis')\n",
    "ax[0,1].errorbar(t_values, e_diff_percent_gb, yerr=e_error_percent_gb, color=\"#f72585\", ecolor='#f72585', marker='o', markersize=3, linestyle=' ', elinewidth=1, label='Gibbs')\n",
    "ax[0,1].axhline(0, linestyle='--', color='#4cc9f0')\n",
    "ax[0,1].grid(True)\n",
    "ax[0,1].set_xlabel('Temperature')\n",
    "ax[0,1].set_ylabel(r'$\\%$')\n",
    "ax[0,1].set_title('Percentual error for Internal energy')\n",
    "ax[0,1].legend()\n",
    "\n",
    "# specific heat\n",
    "heat = heat_capacity(T)\n",
    "heat_values = heat_capacity(t_values)\n",
    "heat_diff_percent_mt = 100 * (cv_mt[:, 0] - heat_values)/heat_values\n",
    "heat_diff_percent_gb = 100 * (cv_gb[:, 0] - heat_values)/heat_values\n",
    "heat_error_percent_mt = - 100 * cv_mt[:, 1]/heat_values\n",
    "heat_error_percent_gb = - 100 * cv_gb[:, 1]/heat_values\n",
    "\n",
    "ax[1,0].errorbar(t_values, cv_mt[:, 0], yerr=cv_mt[:, 1], color=\"#3a0ca3\", ecolor='#3a0ca3', marker='o', markersize=6, linestyle=' ', elinewidth=1, label='Metropolis')\n",
    "ax[1,0].errorbar(t_values, cv_gb[:, 0], yerr=cv_gb[:, 1], color=\"#f72585\", ecolor='#f72585', marker='o', markersize=3, linestyle=' ', elinewidth=1, label='Gibbs')\n",
    "ax[1,0].plot(T, heat, linestyle='--', color='#4cc9f0', label='Analytic solution')\n",
    "ax[1,0].grid(True)\n",
    "ax[1,0].set_xlabel('Temperature')\n",
    "ax[1,0].set_ylabel(r'$c_{p}$')\n",
    "ax[1,0].set_title('Specific heat')\n",
    "ax[1,0].legend()\n",
    "\n",
    "ax[1,1].errorbar(t_values, heat_diff_percent_mt, yerr=heat_error_percent_mt, color=\"#3a0ca3\", ecolor='#3a0ca3', marker='o', markersize=6, linestyle=' ', elinewidth=1, label='Metropolis')\n",
    "ax[1,1].errorbar(t_values, heat_diff_percent_gb, yerr=heat_error_percent_gb, color=\"#f72585\", ecolor='#f72585', marker='o', markersize=3, linestyle=' ', elinewidth=1, label='Gibbs')\n",
    "ax[1,1].axhline(0, linestyle='--', color='#4cc9f0')\n",
    "ax[1,1].grid(True)\n",
    "ax[1,1].set_xlabel('Temperature')\n",
    "ax[1,1].set_ylabel(r'$\\%$')\n",
    "ax[1,1].set_title('Percentual error for Specific heat')\n",
    "ax[1,1].legend()\n",
    "\n",
    "# magnetic susceptibility\n",
    "chi = susceptibility(T)\n",
    "chi_values = susceptibility(t_values)\n",
    "chi_diff_percent_mt = 100 * (chi_mt[:, 0] - chi_values)/chi_values\n",
    "chi_diff_percent_gb = 100 * (chi_gb[:, 0] - chi_values)/chi_values\n",
    "chi_error_percent_mt =  100 * chi_mt[:, 1]/chi_values\n",
    "chi_error_percent_gb =  100 * chi_gb[:, 1]/chi_values\n",
    "\n",
    "ax[2,0].errorbar(t_values, chi_mt[:, 0], yerr=chi_mt[:, 1], color=\"#3a0ca3\", ecolor='#3a0ca3', marker='o', markersize=6, linestyle=' ', elinewidth=1, label='Metropolis')\n",
    "ax[2,0].errorbar(t_values, chi_gb[:, 0], yerr=chi_gb[:, 1], color=\"#f72585\", ecolor='#f72585', marker='o', markersize=3, linestyle=' ', elinewidth=1, label='Gibbs')\n",
    "ax[2,0].plot(T, chi, linestyle='--', color='#4cc9f0', label='Analytic solution')\n",
    "ax[2,0].grid(True)\n",
    "ax[2,0].set_xlabel('Temperature')\n",
    "ax[2,0].set_ylabel(r'$\\chi$')\n",
    "ax[2,0].set_title('Magnetic susceptibility')\n",
    "ax[2,0].legend()\n",
    "\n",
    "ax[2,1].errorbar(t_values, chi_diff_percent_mt, yerr=chi_error_percent_mt, color=\"#3a0ca3\", ecolor='#3a0ca3', marker='o', markersize=6, linestyle=' ', elinewidth=1, label='Metropolis')\n",
    "ax[2,1].errorbar(t_values, chi_diff_percent_gb, yerr=chi_error_percent_gb, color=\"#f72585\", ecolor='#f72585', marker='o', markersize=3, linestyle=' ', elinewidth=1, label='Gibbs')\n",
    "ax[2,1].axhline(0, linestyle='--', color='#4cc9f0')\n",
    "ax[2,1].grid(True)\n",
    "ax[2,1].set_xlabel('Temperature')\n",
    "ax[2,1].set_ylabel(r'$\\%$')\n",
    "ax[2,1].set_title('Percentual error for Magnetic susceptibility')\n",
    "ax[2,1].legend()\n",
    "\n",
    "# magnetization \n",
    "M = mag(T)\n",
    "m_values = mag(t_values)\n",
    "m_diff_percent_mt = 100 * (m_mt[:, 0] - m_values)/m_values\n",
    "m_diff_percent_gb = 100 * (m_gb[:, 0] - m_values)/m_values\n",
    "m_error_percent_mt =  100 * m_mt[:, 1]/m_values\n",
    "m_error_percent_gb =  100 * m_gb[:, 1]/m_values\n",
    "\n",
    "ax[3,0].errorbar(t_values, m_mt[:, 0], yerr=m_mt[:, 1], color=\"#3a0ca3\", ecolor='#3a0ca3', marker='o', markersize=6, linestyle=' ', elinewidth=1, label='Metropolis')\n",
    "ax[3,0].errorbar(t_values, m_gb[:, 0], yerr=m_gb[:, 1], color=\"#f72585\", ecolor='#f72585', marker='o', markersize=3, linestyle=' ', elinewidth=1, label='Gibbs')\n",
    "ax[3,0].plot(T, M, linestyle='--', color='#4cc9f0', label='Analytic solution')\n",
    "ax[3,0].grid(True)\n",
    "ax[3,0].set_xlabel('Temperature')\n",
    "ax[3,0].set_ylabel('Magnetization')\n",
    "ax[3,0].set_title('Magnetization')\n",
    "ax[3,0].legend()\n",
    "\n",
    "ax[3,1].errorbar(t_values, m_diff_percent_mt, yerr=m_error_percent_mt, color=\"#3a0ca3\", ecolor='#3a0ca3', marker='o', markersize=6, linestyle=' ', elinewidth=1, label='Metropolis')\n",
    "ax[3,1].errorbar(t_values, m_diff_percent_gb, yerr=m_error_percent_gb, color=\"#f72585\", ecolor='#f72585', marker='o', markersize=3, linestyle=' ', elinewidth=1, label='Gibbs')\n",
    "ax[3,1].axhline(0, linestyle='--', color='#4cc9f0')\n",
    "ax[3,1].grid(True)\n",
    "ax[3,1].set_xlabel('Temperature')\n",
    "ax[3,1].set_ylabel(r'$\\%$')\n",
    "ax[3,1].set_title('Percentual error for Magnetization')\n",
    "ax[3,1].legend()\n",
    "\n",
    "\n",
    "plt.tight_layout()\n",
    "plt.show()"
   ]
  }
 ],
 "metadata": {
  "kernelspec": {
   "display_name": "Python 3",
   "language": "python",
   "name": "python3"
  },
  "language_info": {
   "codemirror_mode": {
    "name": "ipython",
    "version": 3
   },
   "file_extension": ".py",
   "mimetype": "text/x-python",
   "name": "python",
   "nbconvert_exporter": "python",
   "pygments_lexer": "ipython3",
   "version": "3.9.6"
  }
 },
 "nbformat": 4,
 "nbformat_minor": 5
}
